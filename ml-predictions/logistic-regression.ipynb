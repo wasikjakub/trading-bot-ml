{
 "cells": [
  {
   "cell_type": "code",
   "execution_count": 32,
   "metadata": {},
   "outputs": [],
   "source": [
    "import yfinance as yf\n",
    "import numpy as np\n",
    "import matplotlib.pyplot as plt\n",
    "import pandas as pd\n",
    "from sklearn.linear_model import LogisticRegression\n",
    "import statsmodels.api as sm"
   ]
  },
  {
   "cell_type": "code",
   "execution_count": 33,
   "metadata": {},
   "outputs": [
    {
     "name": "stdout",
     "output_type": "stream",
     "text": [
      "[*********************100%%**********************]  1 of 1 completed\n"
     ]
    }
   ],
   "source": [
    "data = yf.download('^GSPC', start='2018-01-01')\n",
    "#data = yf.download('^GSPC', start='2001-01-03', end='2005-12-31')"
   ]
  },
  {
   "cell_type": "code",
   "execution_count": 34,
   "metadata": {},
   "outputs": [],
   "source": [
    "df = data['Adj Close'].pct_change() * 100"
   ]
  },
  {
   "cell_type": "code",
   "execution_count": 35,
   "metadata": {},
   "outputs": [],
   "source": [
    "df = df.rename(\"Today\")"
   ]
  },
  {
   "cell_type": "code",
   "execution_count": 36,
   "metadata": {},
   "outputs": [],
   "source": [
    "df = df.reset_index()"
   ]
  },
  {
   "cell_type": "code",
   "execution_count": 37,
   "metadata": {},
   "outputs": [],
   "source": [
    "for i in range(1, 6):\n",
    "    df['Lag '+str(i)] = df['Today'].shift(i)"
   ]
  },
  {
   "cell_type": "code",
   "execution_count": 38,
   "metadata": {},
   "outputs": [],
   "source": [
    "df['Volume'] = data.Volume.shift(1).values/1000_000_000\n",
    "df = df.dropna()"
   ]
  },
  {
   "cell_type": "code",
   "execution_count": 39,
   "metadata": {},
   "outputs": [],
   "source": [
    "df['Direction'] = [1 if i>0 else 0 for i in df['Today']]"
   ]
  },
  {
   "cell_type": "code",
   "execution_count": 40,
   "metadata": {},
   "outputs": [],
   "source": [
    "df = sm.add_constant(df)"
   ]
  },
  {
   "cell_type": "code",
   "execution_count": 41,
   "metadata": {},
   "outputs": [],
   "source": [
    "X = df[['const', 'Lag 1', 'Lag 2', 'Lag 3', 'Lag 4', 'Lag 5', 'Volume']]\n",
    "y = df.Direction"
   ]
  },
  {
   "cell_type": "code",
   "execution_count": 42,
   "metadata": {},
   "outputs": [
    {
     "name": "stdout",
     "output_type": "stream",
     "text": [
      "Optimization terminated successfully.\n",
      "         Current function value: 0.688397\n",
      "         Iterations 4\n"
     ]
    }
   ],
   "source": [
    "model = sm.Logit(y, X)\n",
    "result = model.fit()"
   ]
  },
  {
   "cell_type": "code",
   "execution_count": 43,
   "metadata": {},
   "outputs": [
    {
     "data": {
      "text/html": [
       "<table class=\"simpletable\">\n",
       "<caption>Logit Regression Results</caption>\n",
       "<tr>\n",
       "  <th>Dep. Variable:</th>       <td>Direction</td>    <th>  No. Observations:  </th>  <td>  1513</td> \n",
       "</tr>\n",
       "<tr>\n",
       "  <th>Model:</th>                 <td>Logit</td>      <th>  Df Residuals:      </th>  <td>  1506</td> \n",
       "</tr>\n",
       "<tr>\n",
       "  <th>Method:</th>                 <td>MLE</td>       <th>  Df Model:          </th>  <td>     6</td> \n",
       "</tr>\n",
       "<tr>\n",
       "  <th>Date:</th>            <td>Wed, 17 Jan 2024</td> <th>  Pseudo R-squ.:     </th> <td>0.002838</td>\n",
       "</tr>\n",
       "<tr>\n",
       "  <th>Time:</th>                <td>11:38:40</td>     <th>  Log-Likelihood:    </th> <td> -1041.5</td>\n",
       "</tr>\n",
       "<tr>\n",
       "  <th>converged:</th>             <td>True</td>       <th>  LL-Null:           </th> <td> -1044.5</td>\n",
       "</tr>\n",
       "<tr>\n",
       "  <th>Covariance Type:</th>     <td>nonrobust</td>    <th>  LLR p-value:       </th>  <td>0.4313</td> \n",
       "</tr>\n",
       "</table>\n",
       "<table class=\"simpletable\">\n",
       "<tr>\n",
       "     <td></td>       <th>coef</th>     <th>std err</th>      <th>z</th>      <th>P>|z|</th>  <th>[0.025</th>    <th>0.975]</th>  \n",
       "</tr>\n",
       "<tr>\n",
       "  <th>const</th>  <td>    0.3838</td> <td>    0.220</td> <td>    1.748</td> <td> 0.081</td> <td>   -0.047</td> <td>    0.814</td>\n",
       "</tr>\n",
       "<tr>\n",
       "  <th>Lag 1</th>  <td>   -0.0786</td> <td>    0.041</td> <td>   -1.896</td> <td> 0.058</td> <td>   -0.160</td> <td>    0.003</td>\n",
       "</tr>\n",
       "<tr>\n",
       "  <th>Lag 2</th>  <td>    0.0180</td> <td>    0.041</td> <td>    0.435</td> <td> 0.663</td> <td>   -0.063</td> <td>    0.099</td>\n",
       "</tr>\n",
       "<tr>\n",
       "  <th>Lag 3</th>  <td>   -0.0119</td> <td>    0.042</td> <td>   -0.286</td> <td> 0.775</td> <td>   -0.094</td> <td>    0.070</td>\n",
       "</tr>\n",
       "<tr>\n",
       "  <th>Lag 4</th>  <td>   -0.0354</td> <td>    0.041</td> <td>   -0.858</td> <td> 0.391</td> <td>   -0.116</td> <td>    0.046</td>\n",
       "</tr>\n",
       "<tr>\n",
       "  <th>Lag 5</th>  <td>   -0.0273</td> <td>    0.041</td> <td>   -0.666</td> <td> 0.505</td> <td>   -0.108</td> <td>    0.053</td>\n",
       "</tr>\n",
       "<tr>\n",
       "  <th>Volume</th> <td>   -0.0542</td> <td>    0.051</td> <td>   -1.070</td> <td> 0.285</td> <td>   -0.154</td> <td>    0.045</td>\n",
       "</tr>\n",
       "</table>"
      ],
      "text/plain": [
       "<class 'statsmodels.iolib.summary.Summary'>\n",
       "\"\"\"\n",
       "                           Logit Regression Results                           \n",
       "==============================================================================\n",
       "Dep. Variable:              Direction   No. Observations:                 1513\n",
       "Model:                          Logit   Df Residuals:                     1506\n",
       "Method:                           MLE   Df Model:                            6\n",
       "Date:                Wed, 17 Jan 2024   Pseudo R-squ.:                0.002838\n",
       "Time:                        11:38:40   Log-Likelihood:                -1041.5\n",
       "converged:                       True   LL-Null:                       -1044.5\n",
       "Covariance Type:            nonrobust   LLR p-value:                    0.4313\n",
       "==============================================================================\n",
       "                 coef    std err          z      P>|z|      [0.025      0.975]\n",
       "------------------------------------------------------------------------------\n",
       "const          0.3838      0.220      1.748      0.081      -0.047       0.814\n",
       "Lag 1         -0.0786      0.041     -1.896      0.058      -0.160       0.003\n",
       "Lag 2          0.0180      0.041      0.435      0.663      -0.063       0.099\n",
       "Lag 3         -0.0119      0.042     -0.286      0.775      -0.094       0.070\n",
       "Lag 4         -0.0354      0.041     -0.858      0.391      -0.116       0.046\n",
       "Lag 5         -0.0273      0.041     -0.666      0.505      -0.108       0.053\n",
       "Volume        -0.0542      0.051     -1.070      0.285      -0.154       0.045\n",
       "==============================================================================\n",
       "\"\"\""
      ]
     },
     "execution_count": 43,
     "metadata": {},
     "output_type": "execute_result"
    }
   ],
   "source": [
    "result.summary()"
   ]
  },
  {
   "cell_type": "code",
   "execution_count": 44,
   "metadata": {},
   "outputs": [],
   "source": [
    "prediction = result.predict(X)"
   ]
  },
  {
   "cell_type": "code",
   "execution_count": 45,
   "metadata": {},
   "outputs": [],
   "source": [
    "def confusion_matrix(act, pred): #act - actual values, pred - predicted values\n",
    "    predtrans = ['Up' if i > 0.5 else 'Down' for i in pred]\n",
    "    actuals = ['Up' if i > 0 else 'Down' for i in act]\n",
    "    confusion_matrix = pd.crosstab(pd.Series(actuals), pd.Series(predtrans), rownames=['Actual'], colnames=['Predicted'])\n",
    "    return confusion_matrix"
   ]
  },
  {
   "cell_type": "code",
   "execution_count": 46,
   "metadata": {},
   "outputs": [
    {
     "name": "stdout",
     "output_type": "stream",
     "text": [
      "Predicted  Down   Up\n",
      "Actual              \n",
      "Down         67  633\n",
      "Up           51  762\n"
     ]
    }
   ],
   "source": [
    "a = confusion_matrix(y, prediction)\n",
    "print(a)"
   ]
  },
  {
   "cell_type": "code",
   "execution_count": 47,
   "metadata": {},
   "outputs": [
    {
     "data": {
      "text/plain": [
       "0.5479180436219432"
      ]
     },
     "execution_count": 47,
     "metadata": {},
     "output_type": "execute_result"
    }
   ],
   "source": [
    "(a.iloc[1, 1] + a.iloc[0, 0])/len(df)"
   ]
  },
  {
   "cell_type": "code",
   "execution_count": 48,
   "metadata": {},
   "outputs": [
    {
     "data": {
      "text/plain": [
       "1513"
      ]
     },
     "execution_count": 48,
     "metadata": {},
     "output_type": "execute_result"
    }
   ],
   "source": [
    "len(df)"
   ]
  },
  {
   "cell_type": "code",
   "execution_count": null,
   "metadata": {},
   "outputs": [],
   "source": []
  },
  {
   "cell_type": "code",
   "execution_count": 49,
   "metadata": {},
   "outputs": [
    {
     "data": {
      "text/plain": [
       "2.0555188367481825"
      ]
     },
     "execution_count": 49,
     "metadata": {},
     "output_type": "execute_result"
    }
   ],
   "source": [
    "(196 + 2914)/len(df)"
   ]
  },
  {
   "cell_type": "code",
   "execution_count": 50,
   "metadata": {},
   "outputs": [],
   "source": [
    "x_train = df[df.Date.dt.year < 2022][['const', 'Lag 1', 'Lag 2', 'Lag 3', 'Lag 4', 'Lag 5', 'Volume']]\n",
    "y_train = df[df.Date.dt.year < 2022]['Direction']\n",
    "x_test = df[df.Date.dt.year == 2022][['const', 'Lag 1', 'Lag 2', 'Lag 3', 'Lag 4', 'Lag 5', 'Volume']]\n",
    "y_test = df[df.Date.dt.year == 2022]['Direction']\n"
   ]
  },
  {
   "cell_type": "code",
   "execution_count": 51,
   "metadata": {},
   "outputs": [],
   "source": [
    "model = sm.Logit(y_train, x_train)"
   ]
  },
  {
   "cell_type": "code",
   "execution_count": 52,
   "metadata": {},
   "outputs": [
    {
     "name": "stdout",
     "output_type": "stream",
     "text": [
      "Optimization terminated successfully.\n",
      "         Current function value: 0.679291\n",
      "         Iterations 5\n"
     ]
    }
   ],
   "source": [
    "result = model.fit()"
   ]
  },
  {
   "cell_type": "code",
   "execution_count": 53,
   "metadata": {},
   "outputs": [],
   "source": [
    "prediction = result.predict(x_test)"
   ]
  },
  {
   "cell_type": "code",
   "execution_count": 54,
   "metadata": {},
   "outputs": [
    {
     "data": {
      "text/html": [
       "<div>\n",
       "<style scoped>\n",
       "    .dataframe tbody tr th:only-of-type {\n",
       "        vertical-align: middle;\n",
       "    }\n",
       "\n",
       "    .dataframe tbody tr th {\n",
       "        vertical-align: top;\n",
       "    }\n",
       "\n",
       "    .dataframe thead th {\n",
       "        text-align: right;\n",
       "    }\n",
       "</style>\n",
       "<table border=\"1\" class=\"dataframe\">\n",
       "  <thead>\n",
       "    <tr style=\"text-align: right;\">\n",
       "      <th>Predicted</th>\n",
       "      <th>Down</th>\n",
       "      <th>Up</th>\n",
       "    </tr>\n",
       "    <tr>\n",
       "      <th>Actual</th>\n",
       "      <th></th>\n",
       "      <th></th>\n",
       "    </tr>\n",
       "  </thead>\n",
       "  <tbody>\n",
       "    <tr>\n",
       "      <th>Down</th>\n",
       "      <td>21</td>\n",
       "      <td>122</td>\n",
       "    </tr>\n",
       "    <tr>\n",
       "      <th>Up</th>\n",
       "      <td>14</td>\n",
       "      <td>94</td>\n",
       "    </tr>\n",
       "  </tbody>\n",
       "</table>\n",
       "</div>"
      ],
      "text/plain": [
       "Predicted  Down   Up\n",
       "Actual              \n",
       "Down         21  122\n",
       "Up           14   94"
      ]
     },
     "execution_count": 54,
     "metadata": {},
     "output_type": "execute_result"
    }
   ],
   "source": [
    "confusion_matrix(y_test, prediction)"
   ]
  },
  {
   "cell_type": "code",
   "execution_count": 55,
   "metadata": {},
   "outputs": [
    {
     "data": {
      "text/plain": [
       "0.47410358565737054"
      ]
     },
     "execution_count": 55,
     "metadata": {},
     "output_type": "execute_result"
    }
   ],
   "source": [
    "(81+38)/len(x_test)"
   ]
  },
  {
   "cell_type": "code",
   "execution_count": 56,
   "metadata": {},
   "outputs": [],
   "source": [
    "from sklearn.metrics import ConfusionMatrixDisplay, confusion_matrix , classification_report\n"
   ]
  },
  {
   "cell_type": "code",
   "execution_count": 57,
   "metadata": {},
   "outputs": [],
   "source": [
    "def confusion_matrix(act, pred): #act - actual values, pred - predicted values\n",
    "    predtrans = ['Up' if i > 0.5 else 'Down' for i in pred]\n",
    "    actuals = ['Up' if i > 0 else 'Down' for i in act]\n",
    "    confusion_matrix = pd.crosstab(pd.Series(actuals), pd.Series(predtrans), rownames=['Actual'], colnames=['Predicted'])\n",
    "    return confusion_matrix"
   ]
  },
  {
   "cell_type": "code",
   "execution_count": 58,
   "metadata": {},
   "outputs": [],
   "source": [
    "import seaborn as sns"
   ]
  },
  {
   "cell_type": "code",
   "execution_count": 59,
   "metadata": {},
   "outputs": [
    {
     "name": "stdout",
     "output_type": "stream",
     "text": [
      "[*********************100%%**********************]  1 of 1 completed\n",
      "Optimization terminated successfully.\n",
      "         Current function value: 0.687217\n",
      "         Iterations 4\n",
      "                           Logit Regression Results                           \n",
      "==============================================================================\n",
      "Dep. Variable:              Direction   No. Observations:                 2202\n",
      "Model:                          Logit   Df Residuals:                     2195\n",
      "Method:                           MLE   Df Model:                            6\n",
      "Date:                Wed, 17 Jan 2024   Pseudo R-squ.:                0.008404\n",
      "Time:                        11:38:41   Log-Likelihood:                -1513.3\n",
      "converged:                       True   LL-Null:                       -1526.1\n",
      "Covariance Type:            nonrobust   LLR p-value:                 0.0002586\n",
      "==============================================================================\n",
      "                 coef    std err          z      P>|z|      [0.025      0.975]\n",
      "------------------------------------------------------------------------------\n",
      "const         -0.0863      0.068     -1.269      0.204      -0.219       0.047\n",
      "Lag 1         -0.0390      0.010     -4.082      0.000      -0.058      -0.020\n",
      "Lag 2          0.0121      0.009      1.296      0.195      -0.006       0.030\n",
      "Lag 3          0.0046      0.009      0.497      0.619      -0.014       0.023\n",
      "Lag 4         -0.0090      0.009     -0.965      0.334      -0.027       0.009\n",
      "Lag 5         -0.0052      0.009     -0.564      0.573      -0.023       0.013\n",
      "Volume         0.0099      0.004      2.280      0.023       0.001       0.018\n",
      "==============================================================================\n"
     ]
    },
    {
     "data": {
      "image/png": "[encoded data removed]",
      "text/plain": [
       "<Figure size 576x432 with 2 Axes>"
      ]
     },
     "metadata": {
      "needs_background": "light"
     },
     "output_type": "display_data"
    },
    {
     "name": "stdout",
     "output_type": "stream",
     "text": [
      "Predicted  Down   Up\n",
      "Actual              \n",
      "Down        590  495\n",
      "Up          499  618\n",
      "0.5485921889191644\n",
      "Optimization terminated successfully.\n",
      "         Current function value: 0.687169\n",
      "         Iterations 4\n",
      "Predicted  Down  Up\n",
      "Actual             \n",
      "Down        137  44\n",
      "Up          120  64\n",
      "0.5506849315068493\n",
      "Optimization terminated successfully.\n",
      "         Current function value: 0.688848\n",
      "         Iterations 4\n",
      "Predicted  Down   Up\n",
      "Actual              \n",
      "Down         68  113\n",
      "Up           56  128\n",
      "0.536986301369863\n"
     ]
    },
    {
     "data": {
      "image/png": "[encoded data removed]",
      "text/plain": [
       "<Figure size 576x432 with 2 Axes>"
      ]
     },
     "metadata": {
      "needs_background": "light"
     },
     "output_type": "display_data"
    },
    {
     "name": "stdout",
     "output_type": "stream",
     "text": [
      "Predicted  Down   Up\n",
      "Actual              \n",
      "Down         68  113\n",
      "Up           56  128\n",
      "0.5485921889191644\n"
     ]
    }
   ],
   "source": [
    "def LR(symbol, start, year,  end=None):\n",
    "    # Pobranie i przetworzenie danych\n",
    "    data = yf.download(symbol, start, end)\n",
    "    df = data['Adj Close'].pct_change() * 100\n",
    "    df = df.rename('Today')\n",
    "    df = df.reset_index()\n",
    "    for i in range(1, 6):\n",
    "        df['Lag '+str(i)] = df['Today'].shift(i)\n",
    "    df['Volume'] = data.Volume.shift(1).values/1000_000_000\n",
    "    df = df.dropna()\n",
    "    df['Direction'] = [1 if i > 0 else 0 for i in df['Today']]\n",
    "    df = sm.add_constant(df)\n",
    "\n",
    "    # Przygotowanie danych do modelu\n",
    "    X = df[['const', 'Lag 1', 'Lag 2', 'Lag 3', 'Lag 4', 'Lag 5', 'Volume']]\n",
    "    y = df.Direction\n",
    "    model = sm.Logit(y, X)\n",
    "    result = model.fit()\n",
    "    print(result.summary())\n",
    "    prediction = result.predict(X)\n",
    "    a = confusion_matrix(y, prediction)\n",
    "    plt.figure(figsize=(8, 6))\n",
    "    sns.heatmap(a, annot=True, fmt=\"d\", cmap=\"Blues\", cbar=True)\n",
    "    plt.title(\"Confusion Matrix\")\n",
    "    plt.show()\n",
    "    print(a)\n",
    "    print((a.iloc[1, 1] + a.iloc[0, 0])/len(df))\n",
    "\n",
    "    # Podział danych na zestawy treningowe i testowe\n",
    "    x_train = df[df.Date.dt.year < year][['const', 'Lag 1', 'Lag 2', 'Lag 3', 'Lag 4', 'Lag 5', 'Volume']]\n",
    "    y_train = df[df.Date.dt.year < year]['Direction']\n",
    "    x_test = df[df.Date.dt.year == year][['const', 'Lag 1', 'Lag 2', 'Lag 3', 'Lag 4', 'Lag 5', 'Volume']]\n",
    "    y_test = df[df.Date.dt.year == year]['Direction']\n",
    "\n",
    "    # Trenowanie modelu LogisticRegression    \n",
    "    model = sm.Logit(y_train, x_train)\n",
    "    result = model.fit()\n",
    "    prediction = result.predict(x_test)\n",
    "    b = confusion_matrix(y_test, prediction)\n",
    "    print(b)\n",
    "    print((b.iloc[1, 1] + b.iloc[0, 0])/len(x_test))\n",
    "\n",
    "    # Próba ulepszenia wyników poprzez dobranie najbadziej istotnych kolumn \n",
    "    x_train = df[df.Date.dt.year < year][['const', 'Lag 1', 'Lag 2']]\n",
    "    y_train = df[df.Date.dt.year < year]['Direction']\n",
    "    x_test = df[df.Date.dt.year == year][['const', 'Lag 1', 'Lag 2']]\n",
    "    y_test = df[df.Date.dt.year == year]['Direction']\n",
    "    model = sm.Logit(y_train, x_train)\n",
    "    result = model.fit()\n",
    "    prediction = result.predict(x_test)\n",
    "\n",
    "    # Wyświetlanie macierzy pomyłek\n",
    "    b = confusion_matrix(y_test, prediction)\n",
    "    print(b)\n",
    "    print((b.iloc[1, 1] + b.iloc[0, 0])/len(x_test))\n",
    "    plt.figure(figsize=(8, 6))\n",
    "    sns.heatmap(b, annot=True, fmt=\"d\", cmap=\"Reds\", cbar=True)\n",
    "    plt.title(\"Confusion Matrix\")\n",
    "    plt.title(symbol)\n",
    "    plt.show()\n",
    "    print(b)\n",
    "    print((a.iloc[1, 1] + a.iloc[0, 0])/len(df))\n",
    "    #print(classification_report(y_test, prediction))\n",
    "\n",
    "\n",
    "LR('ETH-USD', '2018-01-01', 2023)"
   ]
  },
  {
   "cell_type": "code",
   "execution_count": 61,
   "metadata": {},
   "outputs": [
    {
     "name": "stdout",
     "output_type": "stream",
     "text": [
      "[*********************100%%**********************]  1 of 1 completed\n",
      "Optimization terminated successfully.\n",
      "         Current function value: 0.689173\n",
      "         Iterations 4\n",
      "                           Logit Regression Results                           \n",
      "==============================================================================\n",
      "Dep. Variable:              Direction   No. Observations:                 1513\n",
      "Model:                          Logit   Df Residuals:                     1506\n",
      "Method:                           MLE   Df Model:                            6\n",
      "Date:                Wed, 17 Jan 2024   Pseudo R-squ.:                0.002775\n",
      "Time:                        11:38:51   Log-Likelihood:                -1042.7\n",
      "converged:                       True   LL-Null:                       -1045.6\n",
      "Covariance Type:            nonrobust   LLR p-value:                    0.4456\n",
      "==============================================================================\n",
      "                 coef    std err          z      P>|z|      [0.025      0.975]\n",
      "------------------------------------------------------------------------------\n",
      "const          0.1333      0.115      1.160      0.246      -0.092       0.358\n",
      "Lag 1         -0.0520      0.026     -1.980      0.048      -0.104      -0.001\n",
      "Lag 2         -0.0153      0.026     -0.582      0.561      -0.067       0.036\n",
      "Lag 3          0.0022      0.026      0.084      0.933      -0.049       0.054\n",
      "Lag 4          0.0119      0.026      0.456      0.649      -0.039       0.063\n",
      "Lag 5          0.0316      0.026      1.208      0.227      -0.020       0.083\n",
      "Volume        -0.0173      0.948     -0.018      0.985      -1.876       1.841\n",
      "==============================================================================\n"
     ]
    },
    {
     "data": {
      "image/png": "[encoded data removed]",
      "text/plain": [
       "<Figure size 576x432 with 2 Axes>"
      ]
     },
     "metadata": {
      "needs_background": "light"
     },
     "output_type": "display_data"
    },
    {
     "name": "stdout",
     "output_type": "stream",
     "text": [
      "Predicted  Down   Up\n",
      "Actual              \n",
      "Down         97  611\n",
      "Up           80  725\n",
      "0.543291473892928\n",
      "Optimization terminated successfully.\n",
      "         Current function value: 0.688959\n",
      "         Iterations 4\n",
      "Predicted  Down   Up\n",
      "Actual              \n",
      "Down         14   96\n",
      "Up           14  126\n",
      "0.56\n",
      "Optimization terminated successfully.\n",
      "         Current function value: 0.689901\n",
      "         Iterations 4\n",
      "Predicted  Down   Up\n",
      "Actual              \n",
      "Down          8  102\n",
      "Up            7  133\n",
      "0.564\n"
     ]
    },
    {
     "data": {
      "image/png": "[encoded data removed]",
      "text/plain": [
       "<Figure size 576x432 with 2 Axes>"
      ]
     },
     "metadata": {
      "needs_background": "light"
     },
     "output_type": "display_data"
    },
    {
     "name": "stdout",
     "output_type": "stream",
     "text": [
      "Predicted  Down   Up\n",
      "Actual              \n",
      "Down          8  102\n",
      "Up            7  133\n",
      "0.543291473892928\n"
     ]
    }
   ],
   "source": [
    "LR('AAPL' , '2018-01-01', 2023)"
   ]
  },
  {
   "cell_type": "code",
   "execution_count": null,
   "metadata": {},
   "outputs": [
    {
     "name": "stdout",
     "output_type": "stream",
     "text": [
      "Accuracy: 0.85\n"
     ]
    }
   ],
   "source": [
    "from sklearn.linear_model import LogisticRegression\n",
    "from sklearn.model_selection import train_test_split\n",
    "from sklearn.metrics import accuracy_score\n",
    "from sklearn.preprocessing import StandardScaler\n",
    "import numpy as np\n",
    "\n",
    "X = np.random.rand(100, 2)\n",
    "y = (X[:, 0] + 2 * X[:, 1] + np.random.randn(100) > 0).astype(int)\n",
    "\n",
    "X_train, X_test, y_train, y_test = train_test_split(X, y, test_size=0.2, random_state=42)\n",
    "\n",
    "scaler = StandardScaler()\n",
    "X_train = scaler.fit_transform(X_train)\n",
    "X_test = scaler.transform(X_test)\n",
    "\n",
    "model = LogisticRegression()\n",
    "\n",
    "model.fit(X_train, y_train)\n",
    "\n",
    "y_pred = model.predict(X_test)\n",
    "\n",
    "accuracy = accuracy_score(y_test, y_pred)\n",
    "print(\"Accuracy:\", accuracy)\n"
   ]
  }
 ],
 "metadata": {
  "kernelspec": {
   "display_name": "Python 3",
   "language": "python",
   "name": "python3"
  },
  "language_info": {
   "codemirror_mode": {
    "name": "ipython",
    "version": 3
   },
   "file_extension": ".py",
   "mimetype": "text/x-python",
   "name": "python",
   "nbconvert_exporter": "python",
   "pygments_lexer": "ipython3",
   "version": "3.9.13"
  }
 },
 "nbformat": 4,
 "nbformat_minor": 2
}
